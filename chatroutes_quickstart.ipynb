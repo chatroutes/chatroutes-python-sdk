{
 "cells": [
  {
   "cell_type": "markdown",
   "metadata": {
    "id": "chatroutes-header"
   },
   "source": [
    "# 🚀 ChatRoutes Python SDK - Quick Start Guide\n",
    "\n",
    "[![PyPI](https://img.shields.io/pypi/v/chatroutes.svg)](https://pypi.org/project/chatroutes/)\n",
    "[![Python](https://img.shields.io/pypi/pyversions/chatroutes.svg)](https://pypi.org/project/chatroutes/)\n",
    "\n",
    "Welcome to ChatRoutes! This notebook will help you get started with the ChatRoutes Python SDK.\n",
    "\n",
    "## ⚠️ Beta Release Notice\n",
    "\n",
    "ChatRoutes is currently in **beta**. The API may change without maintaining backward compatibility. Please use with caution in production environments.\n",
    "\n",
    "## 🔑 Getting Your API Key\n",
    "\n",
    "**IMPORTANT:** Before you begin, you need to get your API key:\n",
    "\n",
    "1. **Visit** [chatroutes.com](https://chatroutes.com)\n",
    "2. **Sign up** for a free account\n",
    "3. **Go to Dashboard** → Navigate to the **API section**\n",
    "4. **Generate** your API key\n",
    "5. **Copy** the API key and paste it below when prompted\n",
    "\n",
    "## 🤖 Supported Models\n",
    "\n",
    "Currently, ChatRoutes supports the following AI models:\n",
    "- **`gpt-5`** - OpenAI's GPT-5\n",
    "- **`claude-opus-4.1`** - Anthropic's Claude Opus 4.1\n",
    "\n",
    "---"
   ]
  },
  {
   "cell_type": "markdown",
   "metadata": {
    "id": "install-section"
   },
   "source": [
    "## 📦 Step 1: Install ChatRoutes SDK"
   ]
  },
  {
   "cell_type": "code",
   "execution_count": null,
   "metadata": {
    "id": "install-cell"
   },
   "outputs": [],
   "source": [
    "!pip install -q chatroutes\n",
    "print(\"✅ ChatRoutes SDK installed successfully!\")"
   ]
  },
  {
   "cell_type": "markdown",
   "metadata": {
    "id": "setup-section"
   },
   "source": [
    "## 🔐 Step 2: Set Up Your API Key\n",
    "\n",
    "Enter your API key below. You can get it from [chatroutes.com](https://chatroutes.com) → Dashboard → API section."
   ]
  },
  {
   "cell_type": "code",
   "execution_count": null,
   "metadata": {
    "id": "setup-cell"
   },
   "outputs": [],
   "source": [
    "from getpass import getpass\n",
    "from chatroutes import ChatRoutes\n",
    "\n",
    "# Enter your API key (it will be hidden)\n",
    "api_key = getpass('Enter your ChatRoutes API key: ')\n",
    "\n",
    "# Initialize the ChatRoutes client\n",
    "client = ChatRoutes(api_key=api_key)\n",
    "\n",
    "print(\"✅ ChatRoutes client initialized successfully!\")"
   ]
  },
  {
   "cell_type": "markdown",
   "metadata": {
    "id": "example-1-section"
   },
   "source": [
    "## 💬 Step 3: Create Your First Conversation\n",
    "\n",
    "Let's create a conversation and send a message!"
   ]
  },
  {
   "cell_type": "code",
   "execution_count": null,
   "metadata": {
    "id": "example-1-cell"
   },
   "outputs": [],
   "source": [
    "# Create a new conversation\n",
    "conversation = client.conversations.create({\n",
    "    'title': 'My First ChatRoutes Conversation',\n",
    "    'model': 'gpt-5'  # or 'claude-opus-4.1'\n",
    "})\n",
    "\n",
    "print(f\"✅ Created conversation: {conversation['title']}\")\n",
    "print(f\"📝 Conversation ID: {conversation['id']}\")\n",
    "print(f\"🤖 Model: {conversation['model']}\")"
   ]
  },
  {
   "cell_type": "markdown",
   "metadata": {
    "id": "example-2-section"
   },
   "source": [
    "## 📤 Step 4: Send a Message"
   ]
  },
  {
   "cell_type": "code",
   "execution_count": null,
   "metadata": {
    "id": "example-2-cell"
   },
   "outputs": [],
   "source": [
    "# Send a message to the conversation\n",
    "response = client.messages.send(\n",
    "    conversation['id'],\n",
    "    {\n",
    "        'content': 'Hello! Can you explain what ChatRoutes is in one sentence?',\n",
    "        'model': 'gpt-5'\n",
    "    }\n",
    ")\n",
    "\n",
    "print(\"\\n💬 Your message:\")\n",
    "print(response['userMessage']['content'])\n",
    "print(\"\\n🤖 AI Response:\")\n",
    "print(response['assistantMessage']['content'])"
   ]
  },
  {
   "cell_type": "markdown",
   "metadata": {
    "id": "example-3-section"
   },
   "source": [
    "## 🌊 Step 5: Try Streaming Responses\n",
    "\n",
    "ChatRoutes supports streaming for real-time responses!"
   ]
  },
  {
   "cell_type": "code",
   "execution_count": null,
   "metadata": {
    "id": "example-3-cell"
   },
   "outputs": [],
   "source": [
    "import sys\n",
    "\n",
    "print(\"🌊 Streaming response:\\n\")\n",
    "\n",
    "# Define callback for streaming chunks\n",
    "def on_chunk(chunk):\n",
    "    if chunk['choices'] and chunk['choices'][0]['delta'].get('content'):\n",
    "        content = chunk['choices'][0]['delta']['content']\n",
    "        print(content, end='', flush=True)\n",
    "\n",
    "def on_complete(response):\n",
    "    print(\"\\n\\n✅ Streaming complete!\")\n",
    "\n",
    "# Send a message with streaming\n",
    "client.messages.stream(\n",
    "    conversation['id'],\n",
    "    {\n",
    "        'content': 'Tell me a short joke about programming.',\n",
    "        'model': 'gpt-5'\n",
    "    },\n",
    "    on_chunk=on_chunk,\n",
    "    on_complete=on_complete\n",
    ")"
   ]
  },
  {
   "cell_type": "markdown",
   "metadata": {
    "id": "example-4-section"
   },
   "source": [
    "## 🌳 Step 6: Create a Branch (Alternative Response)\n",
    "\n",
    "One of ChatRoutes' unique features is conversation branching - explore alternative responses!"
   ]
  },
  {
   "cell_type": "code",
   "execution_count": null,
   "metadata": {
    "id": "example-4-cell"
   },
   "outputs": [],
   "source": [
    "# Create a branch for alternative responses\n",
    "branch = client.branches.create(\n",
    "    conversation['id'],\n",
    "    {\n",
    "        'title': 'Alternative Response',\n",
    "        'contextMode': 'FULL'\n",
    "    }\n",
    ")\n",
    "\n",
    "print(f\"✅ Created branch: {branch['title']}\")\n",
    "print(f\"🌿 Branch ID: {branch['id']}\")\n",
    "\n",
    "# Send a message in the branch\n",
    "branch_response = client.messages.send(\n",
    "    conversation['id'],\n",
    "    {\n",
    "        'content': 'Now tell me a joke about AI instead.',\n",
    "        'model': 'gpt-5',\n",
    "        'branchId': branch['id']\n",
    "    }\n",
    ")\n",
    "\n",
    "print(\"\\n🌿 Branch response:\")\n",
    "print(branch_response['assistantMessage']['content'])"
   ]
  },
  {
   "cell_type": "markdown",
   "metadata": {
    "id": "example-claude-section"
   },
   "source": [
    "## 🎭 Step 7: Try Claude Model\n",
    "\n",
    "Let's create a conversation using Claude!"
   ]
  },
  {
   "cell_type": "code",
   "execution_count": null,
   "metadata": {
    "id": "example-claude-cell"
   },
   "outputs": [],
   "source": [
    "# Create a conversation with Claude\n",
    "claude_conversation = client.conversations.create({\n",
    "    'title': 'Testing Claude Opus',\n",
    "    'model': 'claude-opus-4.1'\n",
    "})\n",
    "\n",
    "# Send a message to Claude\n",
    "claude_response = client.messages.send(\n",
    "    claude_conversation['id'],\n",
    "    {\n",
    "        'content': 'Write a haiku about artificial intelligence.',\n",
    "        'model': 'claude-opus-4.1'\n",
    "    }\n",
    ")\n",
    "\n",
    "print(\"🎭 Claude's response:\")\n",
    "print(claude_response['assistantMessage']['content'])"
   ]
  },
  {
   "cell_type": "markdown",
   "metadata": {
    "id": "example-5-section"
   },
   "source": [
    "## 📋 Step 8: List Your Conversations"
   ]
  },
  {
   "cell_type": "code",
   "execution_count": null,
   "metadata": {
    "id": "example-5-cell"
   },
   "outputs": [],
   "source": [
    "# List all conversations\n",
    "result = client.conversations.list({\n",
    "    'page': 1,\n",
    "    'limit': 5,\n",
    "    'filter': 'all'\n",
    "})\n",
    "\n",
    "print(f\"📊 Total conversations: {result['total']}\")\n",
    "print(f\"📄 Page {result['page']} of {result['pages']}\\n\")\n",
    "\n",
    "for conv in result['data']:\n",
    "    print(f\"💬 {conv['title']}\")\n",
    "    print(f\"   ID: {conv['id']}\")\n",
    "    print(f\"   Model: {conv['model']}\")\n",
    "    print(f\"   Created: {conv['createdAt']}\")\n",
    "    print()"
   ]
  },
  {
   "cell_type": "markdown",
   "metadata": {
    "id": "example-6-section"
   },
   "source": [
    "## 🌲 Step 9: View Conversation Tree\n",
    "\n",
    "See the structure of your conversation with all its branches!"
   ]
  },
  {
   "cell_type": "code",
   "execution_count": null,
   "metadata": {
    "id": "example-6-cell"
   },
   "outputs": [],
   "source": [
    "# Get conversation tree\n",
    "tree = client.conversations.get_tree(conversation['id'])\n",
    "\n",
    "def print_tree(node, indent=0):\n",
    "    prefix = \"  \" * indent\n",
    "    message_type = \"🧑\" if node['message']['role'] == 'user' else \"🤖\"\n",
    "    content = node['message']['content'][:50] + \"...\" if len(node['message']['content']) > 50 else node['message']['content']\n",
    "    print(f\"{prefix}{message_type} {content}\")\n",
    "    \n",
    "    for child in node.get('children', []):\n",
    "        print_tree(child, indent + 1)\n",
    "\n",
    "print(\"🌲 Conversation Tree:\\n\")\n",
    "if tree['root']:\n",
    "    print_tree(tree['root'])\n",
    "else:\n",
    "    print(\"No messages in conversation yet.\")"
   ]
  },
  {
   "cell_type": "markdown",
   "metadata": {
    "id": "cleanup-section"
   },
   "source": [
    "## 🧹 Optional: Clean Up\n",
    "\n",
    "Delete the test conversations if you want to clean up."
   ]
  },
  {
   "cell_type": "code",
   "execution_count": null,
   "metadata": {
    "id": "cleanup-cell"
   },
   "outputs": [],
   "source": [
    "# Uncomment to delete the conversations\n",
    "# client.conversations.delete(conversation['id'])\n",
    "# client.conversations.delete(claude_conversation['id'])\n",
    "# print(\"✅ Conversations deleted\")\n",
    "\n",
    "print(\"ℹ️ Uncomment the code above to delete the test conversations\")"
   ]
  },
  {
   "cell_type": "markdown",
   "metadata": {
    "id": "resources-section"
   },
   "source": [
    "## 📚 Next Steps\n",
    "\n",
    "Congratulations! You've learned the basics of ChatRoutes. Here are some resources to help you go further:\n",
    "\n",
    "### 📖 Documentation\n",
    "- [GitHub Repository](https://github.com/chatroutes/chatroutes-python-sdk)\n",
    "- [API Documentation](https://docs.chatroutes.com)\n",
    "- [Quick Start Guide](https://github.com/chatroutes/chatroutes-python-sdk/blob/main/QUICKSTART.md)\n",
    "\n",
    "### 💡 Examples\n",
    "- [Basic Usage](https://github.com/chatroutes/chatroutes-python-sdk/blob/main/examples/basic_usage.py)\n",
    "- [Streaming](https://github.com/chatroutes/chatroutes-python-sdk/blob/main/examples/streaming_example.py)\n",
    "- [Branching](https://github.com/chatroutes/chatroutes-python-sdk/blob/main/examples/branching_example.py)\n",
    "- [Error Handling](https://github.com/chatroutes/chatroutes-python-sdk/blob/main/examples/error_handling.py)\n",
    "\n",
    "### 🤖 Supported Models\n",
    "\n",
    "- **`gpt-5`** - OpenAI's GPT-5\n",
    "- **`claude-opus-4.1`** - Anthropic's Claude Opus 4.1\n",
    "\n",
    "### 🔧 Key Features to Explore\n",
    "\n",
    "1. **Multiple Models**: Switch between GPT-5 and Claude Opus 4.1\n",
    "2. **Conversation Branching**: Explore alternative conversation paths\n",
    "3. **Streaming**: Real-time response streaming\n",
    "4. **Message History**: Access and manage conversation history\n",
    "5. **Branch Merging**: Merge branches back into main conversation\n",
    "\n",
    "### 💬 Support\n",
    "- Email: support@chatroutes.com\n",
    "- GitHub Issues: [Report a bug](https://github.com/chatroutes/chatroutes-python-sdk/issues)\n",
    "\n",
    "---\n",
    "\n",
    "**Happy coding with ChatRoutes!** 🚀"
   ]
  }
 ],
 "metadata": {
  "colab": {
   "name": "ChatRoutes Python SDK - Quick Start",
   "provenance": [],
   "toc_visible": true
  },
  "kernelspec": {
   "display_name": "Python 3",
   "language": "python",
   "name": "python3"
  },
  "language_info": {
   "codemirror_mode": {
    "name": "ipython",
    "version": 3
   },
   "file_extension": ".py",
   "mimetype": "text/x-python",
   "name": "python",
   "nbconvert_exporter": "python",
   "pygments_lexer": "ipython3",
   "version": "3.8.0"
  }
 },
 "nbformat": 4,
 "nbformat_minor": 0
}
