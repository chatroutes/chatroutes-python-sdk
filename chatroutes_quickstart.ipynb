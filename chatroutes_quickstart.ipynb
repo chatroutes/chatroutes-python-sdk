{
 "cells": [
  {
   "cell_type": "markdown",
   "metadata": {
    "id": "chatroutes-header"
   },
   "source": [
    "# 🚀 ChatRoutes Python SDK - Quick Start Guide\n",
    "\n",
    "[![PyPI](https://img.shields.io/pypi/v/chatroutes.svg)](https://pypi.org/project/chatroutes/)\n",
    "[![Python](https://img.shields.io/pypi/pyversions/chatroutes.svg)](https://pypi.org/project/chatroutes/)\n",
    "\n",
    "Welcome to ChatRoutes! This notebook will help you get started with the ChatRoutes Python SDK.\n",
    "\n",
    "## ⚠️ Beta Release Notice\n",
    "\n",
    "ChatRoutes is currently in **beta**. The API may change without maintaining backward compatibility. Please use with caution in production environments.\n",
    "\n",
    "## 🔑 Getting Your API Key\n",
    "\n",
    "**IMPORTANT:** Before you begin, you need to get your API key:\n",
    "\n",
    "1. **Visit** [chatroutes.com](https://chatroutes.com)\n",
    "2. **Sign up** for a free account\n",
    "3. **Go to Dashboard** → Navigate to the **API section**\n",
    "4. **Generate** your API key\n",
    "5. **Copy** the API key and paste it below when prompted\n",
    "\n",
    "## 🤖 Supported Models\n",
    "\n",
    "**OpenAI:**\n",
    "- **`gpt-5`** (default) - OpenAI's GPT-5\n",
    "\n",
    "**Anthropic Claude 4:**\n",
    "- **`claude-opus-4-1`** - Claude Opus 4.1 (most capable)\n",
    "- **`claude-opus-4`** - Claude Opus 4\n",
    "- **`claude-opus-4-0`** - Claude Opus 4.0\n",
    "- **`claude-sonnet-4-5`** - Claude Sonnet 4.5 (best for coding)\n",
    "- **`claude-sonnet-4-0`** - Claude Sonnet 4.0\n",
    "\n",
    "**Anthropic Claude 3:**\n",
    "- **`claude-3-7-sonnet-latest`** - Claude 3.7 Sonnet (latest)\n",
    "- **`claude-3-5-haiku-latest`** - Claude 3.5 Haiku (fastest)\n",
    "\n",
    "**Important**: Use these exact model names. Other model names are not supported.\n",
    "\n",
    "---"
   ]
  },
  {
   "cell_type": "markdown",
   "metadata": {
    "id": "install-section"
   },
   "source": [
    "## 📦 Step 1: Install ChatRoutes SDK"
   ]
  },
  {
   "cell_type": "code",
   "execution_count": null,
   "metadata": {
    "id": "install-cell"
   },
   "outputs": [],
   "source": [
    "!pip install -q chatroutes\n",
    "print(\"✅ ChatRoutes SDK installed successfully!\")"
   ]
  },
  {
   "cell_type": "markdown",
   "metadata": {
    "id": "setup-section"
   },
   "source": [
    "## 🔐 Step 2: Set Up Your API Key\n",
    "\n",
    "Enter your API key below. You can get it from [chatroutes.com](https://chatroutes.com) → Dashboard → API section."
   ]
  },
  {
   "cell_type": "code",
   "execution_count": null,
   "metadata": {
    "id": "setup-cell"
   },
   "outputs": [],
   "source": [
    "from getpass import getpass\n",
    "from chatroutes import ChatRoutes\n",
    "\n",
    "# Enter your API key (it will be hidden)\n",
    "api_key = getpass('Enter your ChatRoutes API key: ')\n",
    "\n",
    "# Initialize the ChatRoutes client\n",
    "client = ChatRoutes(api_key=api_key)\n",
    "\n",
    "print(\"✅ ChatRoutes client initialized successfully!\")"
   ]
  },
  {
   "cell_type": "markdown",
   "metadata": {
    "id": "example-1-section"
   },
   "source": [
    "## 💬 Step 3: Create Your First Conversation\n",
    "\n",
    "Let's create a conversation and send a message!"
   ]
  },
  {
   "cell_type": "code",
   "execution_count": null,
   "metadata": {
    "id": "example-1-cell"
   },
   "outputs": [],
   "source": [
    "# Create a new conversation\n",
    "conversation = client.conversations.create({\n",
    "    'title': 'My First ChatRoutes Conversation',\n",
    "    'model': 'gpt-5'  # Try: claude-opus-4-1, claude-sonnet-4-5, etc.\n",
    "})\n",
    "\n",
    "print(f\"✅ Created conversation: {conversation['title']}\")\n",
    "print(f\"📝 Conversation ID: {conversation['id']}\")\n",
    "print(f\"🤖 Model: {conversation['model']}\")"
   ]
  },
  {
   "cell_type": "markdown",
   "metadata": {
    "id": "example-2-section"
   },
   "source": [
    "## 📤 Step 4: Send a Message"
   ]
  },
  {
   "cell_type": "code",
   "execution_count": null,
   "metadata": {
    "id": "example-2-cell"
   },
   "outputs": [],
   "source": [
    "# Send a message to the conversation\n",
    "response = client.messages.send(\n",
    "    conversation['id'],\n",
    "    {\n",
    "        'content': 'Hello! Can you explain what ChatRoutes is in one sentence?',\n",
    "        'model': 'gpt-5'\n",
    "    }\n",
    ")\n",
    "\n",
    "print(\"\\n🤖 AI Response:\")\n",
    "print(response['message']['content'])\n",
    "print(f\"\\n📊 Model: {response['model']}\")\n",
    "print(f\"🔢 Tokens used: {response['usage']['totalTokens']}\")"
   ]
  },
  {
   "cell_type": "markdown",
   "metadata": {
    "id": "example-3-section"
   },
   "source": [
    "## 🌊 Step 5: Try Streaming Responses\n",
    "\n",
    "ChatRoutes supports streaming for real-time responses!"
   ]
  },
  {
   "cell_type": "code",
   "execution_count": null,
   "metadata": {
    "id": "example-3-cell"
   },
   "outputs": [],
   "source": [
    "print(\"🌊 Streaming response:\\n\")\n",
    "\n",
    "# Define callback for streaming chunks\n",
    "def on_chunk(chunk):\n",
    "    if chunk.get('type') == 'content' and chunk.get('content'):\n",
    "        print(chunk['content'], end='', flush=True)\n",
    "\n",
    "def on_complete(message):\n",
    "    print(f\"\\n\\n✅ Streaming complete!\")\n",
    "    print(f\"📝 Message ID: {message['id']}\")\n",
    "\n",
    "# Send a message with streaming\n",
    "client.messages.stream(\n",
    "    conversation['id'],\n",
    "    {\n",
    "        'content': 'Tell me a short joke about programming.',\n",
    "        'model': 'gpt-5'\n",
    "    },\n",
    "    on_chunk=on_chunk,\n",
    "    on_complete=on_complete\n",
    ")"
   ]
  },
  {
   "cell_type": "markdown",
   "metadata": {
    "id": "example-4-section"
   },
   "source": [
    "## 🌳 Step 6: Create a Branch (Alternative Response)\n",
    "\n",
    "One of ChatRoutes' unique features is conversation branching - explore alternative responses!"
   ]
  },
  {
   "cell_type": "code",
   "execution_count": null,
   "metadata": {
    "id": "example-4-cell"
   },
   "outputs": [],
   "source": [
    "# Create a branch for alternative responses\n",
    "branch = client.branches.create(\n",
    "    conversation['id'],\n",
    "    {\n",
    "        'title': 'Alternative Response',\n",
    "        'contextMode': 'FULL'\n",
    "    }\n",
    ")\n",
    "\n",
    "print(f\"✅ Created branch: {branch['title']}\")\n",
    "print(f\"🌿 Branch ID: {branch['id']}\")\n",
    "\n",
    "# Send a message in the branch\n",
    "branch_response = client.messages.send(\n",
    "    conversation['id'],\n",
    "    {\n",
    "        'content': 'Now tell me a joke about AI instead.',\n",
    "        'model': 'gpt-5',\n",
    "        'branchId': branch['id']\n",
    "    }\n",
    ")\n",
    "\n",
    "print(\"\\n🌿 Branch response:\")\n",
    "print(branch_response['message']['content'])"
   ]
  },
  {
   "cell_type": "markdown",
   "metadata": {
    "id": "example-claude-section"
   },
   "source": [
    "## 🎭 Step 7: Try Different Claude Models\n",
    "\n",
    "Test various Claude models for different use cases!"
   ]
  },
  {
   "cell_type": "code",
   "execution_count": null,
   "metadata": {
    "id": "example-claude-cell"
   },
   "outputs": [],
   "source": [
    "# Claude Opus 4.1 - Most capable\n",
    "opus_conv = client.conversations.create({\n",
    "    'title': 'Claude Opus 4.1 - Most Capable',\n",
    "    'model': 'claude-opus-4-1'\n",
    "})\n",
    "\n",
    "opus_response = client.messages.send(\n",
    "    opus_conv['id'],\n",
    "    {'content': 'Explain quantum entanglement in simple terms.', 'model': 'claude-opus-4-1'}\n",
    ")\n",
    "print(\"🎭 Claude Opus 4.1 (Most Capable):\")\n",
    "print(opus_response['message']['content'][:200] + \"...\\n\")\n",
    "\n",
    "# Claude Sonnet 4.5 - Best for coding\n",
    "sonnet_conv = client.conversations.create({\n",
    "    'title': 'Claude Sonnet 4.5 - Best for Coding',\n",
    "    'model': 'claude-sonnet-4-5'\n",
    "})\n",
    "\n",
    "sonnet_response = client.messages.send(\n",
    "    sonnet_conv['id'],\n",
    "    {'content': 'Write a Python function to check if a number is prime.', 'model': 'claude-sonnet-4-5'}\n",
    ")\n",
    "print(\"💻 Claude Sonnet 4.5 (Best for Coding):\")\n",
    "print(sonnet_response['message']['content'][:200] + \"...\\n\")\n",
    "\n",
    "# Claude 3.5 Haiku - Fastest\n",
    "haiku_conv = client.conversations.create({\n",
    "    'title': 'Claude 3.5 Haiku - Fastest',\n",
    "    'model': 'claude-3-5-haiku-latest'\n",
    "})\n",
    "\n",
    "haiku_response = client.messages.send(\n",
    "    haiku_conv['id'],\n",
    "    {'content': 'Summarize AI in one sentence.', 'model': 'claude-3-5-haiku-latest'}\n",
    ")\n",
    "print(\"⚡ Claude 3.5 Haiku (Fastest):\")\n",
    "print(haiku_response['message']['content'])"
   ]
  },
  {
   "cell_type": "markdown",
   "metadata": {
    "id": "example-5-section"
   },
   "source": [
    "## 📋 Step 8: List Your Conversations"
   ]
  },
  {
   "cell_type": "code",
   "execution_count": null,
   "metadata": {
    "id": "example-5-cell"
   },
   "outputs": [],
   "source": [
    "# List all conversations\n",
    "result = client.conversations.list({\n",
    "    'page': 1,\n",
    "    'limit': 5,\n",
    "    'filter': 'all'\n",
    "})\n",
    "\n",
    "print(f\"📊 Total conversations: {result['total']}\")\n",
    "print(f\"📄 Page {result['page']} of {result.get('pages', '?')}\")\n",
    "print(f\"➡️ Has next page: {result.get('hasNext', False)}\\n\")\n",
    "\n",
    "for conv in result['data']:\n",
    "    print(f\"💬 {conv['title']}\")\n",
    "    print(f\"   ID: {conv['id']}\")\n",
    "    print(f\"   Model: {conv['model']}\")\n",
    "    print(f\"   Created: {conv['createdAt']}\")\n",
    "    print()"
   ]
  },
  {
   "cell_type": "markdown",
   "metadata": {
    "id": "example-6-section"
   },
   "source": [
    "## 🌲 Step 9: View Conversation Tree\n",
    "\n",
    "See the structure of your conversation with all its branches!"
   ]
  },
  {
   "cell_type": "code",
   "execution_count": null,
   "metadata": {
    "id": "example-6-cell"
   },
   "outputs": [],
   "source": [
    "# Get conversation tree\n",
    "tree = client.conversations.get_tree(conversation['id'])\n",
    "\n",
    "def print_tree(node, indent=0):\n",
    "    prefix = \"  \" * indent\n",
    "    message_type = \"🧑\" if node['message']['role'] == 'user' else \"🤖\"\n",
    "    content = node['message']['content'][:50] + \"...\" if len(node['message']['content']) > 50 else node['message']['content']\n",
    "    print(f\"{prefix}{message_type} {content}\")\n",
    "    \n",
    "    for child in node.get('children', []):\n",
    "        print_tree(child, indent + 1)\n",
    "\n",
    "print(\"🌲 Conversation Tree:\\n\")\n",
    "if tree['root']:\n",
    "    print_tree(tree['root'])\n",
    "else:\n",
    "    print(\"No messages in conversation yet.\")"
   ]
  },
  {
   "cell_type": "markdown",
   "metadata": {
    "id": "cleanup-section"
   },
   "source": [
    "## 🧹 Optional: Clean Up\n",
    "\n",
    "Delete the test conversations if you want to clean up."
   ]
  },
  {
   "cell_type": "code",
   "execution_count": null,
   "metadata": {
    "id": "cleanup-cell"
   },
   "outputs": [],
   "source": [
    "# Uncomment to delete the conversations\n",
    "# client.conversations.delete(conversation['id'])\n",
    "# client.conversations.delete(opus_conv['id'])\n",
    "# client.conversations.delete(sonnet_conv['id'])\n",
    "# client.conversations.delete(haiku_conv['id'])\n",
    "# print(\"✅ Conversations deleted\")\n",
    "\n",
    "print(\"ℹ️ Uncomment the code above to delete the test conversations\")"
   ]
  },
  {
   "cell_type": "markdown",
   "metadata": {
    "id": "resources-section"
   },
   "source": [
    "## 📚 Next Steps\n",
    "\n",
    "Congratulations! You've learned the basics of ChatRoutes. Here are some resources to help you go further:\n",
    "\n",
    "### 📖 Documentation\n",
    "- [GitHub Repository](https://github.com/chatroutes/chatroutes-python-sdk)\n",
    "- [API Documentation](https://docs.chatroutes.com)\n",
    "- [Quick Start Guide](https://github.com/chatroutes/chatroutes-python-sdk/blob/main/QUICKSTART.md)\n",
    "\n",
    "### 💡 Examples\n",
    "- [Basic Usage](https://github.com/chatroutes/chatroutes-python-sdk/blob/main/examples/basic_usage.py)\n",
    "- [Streaming](https://github.com/chatroutes/chatroutes-python-sdk/blob/main/examples/streaming_example.py)\n",
    "- [Branching](https://github.com/chatroutes/chatroutes-python-sdk/blob/main/examples/branching_example.py)\n",
    "- [Error Handling](https://github.com/chatroutes/chatroutes-python-sdk/blob/main/examples/error_handling.py)\n",
    "\n",
    "### 🤖 Supported Models\n",
    "\n",
    "**OpenAI:**\n",
    "- `gpt-5` (default)\n",
    "\n",
    "**Anthropic Claude 4:**\n",
    "- `claude-opus-4-1` (most capable)\n",
    "- `claude-opus-4`\n",
    "- `claude-opus-4-0`\n",
    "- `claude-sonnet-4-5` (best for coding)\n",
    "- `claude-sonnet-4-0`\n",
    "\n",
    "**Anthropic Claude 3:**\n",
    "- `claude-3-7-sonnet-latest`\n",
    "- `claude-3-5-haiku-latest` (fastest)\n",
    "\n",
    "### 🔧 Key Features to Explore\n",
    "\n",
    "1. **Multiple Models**: Switch between 8+ AI models for different use cases\n",
    "2. **Conversation Branching**: Explore alternative conversation paths\n",
    "3. **Streaming**: Real-time response streaming\n",
    "4. **Message History**: Access and manage conversation history\n",
    "5. **Branch Merging**: Merge branches back into main conversation\n",
    "\n",
    "### 💬 Support\n",
    "- Email: support@chatroutes.com\n",
    "- GitHub Issues: [Report a bug](https://github.com/chatroutes/chatroutes-python-sdk/issues)\n",
    "\n",
    "---\n",
    "\n",
    "**Happy coding with ChatRoutes!** 🚀"
   ]
  }
 ],
 "metadata": {
  "colab": {
   "name": "ChatRoutes Python SDK - Quick Start",
   "provenance": [],
   "toc_visible": true
  },
  "kernelspec": {
   "display_name": "Python 3",
   "language": "python",
   "name": "python3"
  },
  "language_info": {
   "codemirror_mode": {
    "name": "ipython",
    "version": 3
   },
   "file_extension": ".py",
   "mimetype": "text/x-python",
   "name": "python",
   "nbconvert_exporter": "python",
   "pygments_lexer": "ipython3",
   "version": "3.8.0"
  }
 },
 "nbformat": 4,
 "nbformat_minor": 0
}
